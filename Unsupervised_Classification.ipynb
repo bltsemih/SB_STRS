{
 "cells": [
  {
   "cell_type": "code",
   "execution_count": null,
   "metadata": {},
   "outputs": [],
   "source": [
    "!pip install geemap --upgrade\n",
    "!pip install earthengine-api --upgrade"
   ]
  },
  {
   "cell_type": "code",
   "execution_count": null,
   "metadata": {},
   "outputs": [],
   "source": [
    "import ee"
   ]
  },
  {
   "cell_type": "code",
   "execution_count": null,
   "metadata": {},
   "outputs": [],
   "source": [
    "import geemap"
   ]
  },
  {
   "cell_type": "code",
   "execution_count": null,
   "metadata": {},
   "outputs": [],
   "source": [
    "Map = geemap.Map()\n",
    "Map"
   ]
  },
  {
   "cell_type": "code",
   "execution_count": null,
   "metadata": {},
   "outputs": [],
   "source": [
    "map_mrmra = geemap.Map()\n",
    "point = ee.Geometry.Point([27.8624, 40.4546])\n",
    "\n",
    "image = ee.ImageCollection(\"LANDSAT/LC08/C01/T1_SR\") \\\n",
    "    .filterBounds(point)  \\\n",
    "    .filterDate(\"2018-01-01\", \"2019-12-31\") \\\n",
    "    .sort(\"CLOUD_COVER\") \\\n",
    "    .first()  \\\n",
    "    .select(\"B[1-7]\")\n",
    "\n",
    "vis_parameters = {\"min\": 0, \"max\": 3000, \"bands\": [\"B4\", \"B3\", \"B2\"]}\n",
    "\n",
    "map_mrmra.centerObject(point, 8)\n",
    "map_mrmra.addLayer(image, vis_parameters, \"Landsat-8\")\n",
    "map_mrmra"
   ]
  },
  {
   "cell_type": "code",
   "execution_count": null,
   "metadata": {},
   "outputs": [],
   "source": [
    "ee.Algorithms.If(ee.List(image.propertyNames()).contains(\"system:time_start\"), True, False).getInfo()"
   ]
  },
  {
   "cell_type": "code",
   "execution_count": null,
   "metadata": {},
   "outputs": [],
   "source": [
    "props = geemap.image_props(image)\n",
    "props.getInfo()"
   ]
  },
  {
   "cell_type": "code",
   "execution_count": null,
   "metadata": {},
   "outputs": [],
   "source": [
    "props.get(\"IMAGE_DATE\").getInfo()"
   ]
  },
  {
   "cell_type": "code",
   "execution_count": null,
   "metadata": {},
   "outputs": [],
   "source": [
    "props.get(\"CLOUD_COVER\").getInfo()"
   ]
  },
  {
   "cell_type": "code",
   "execution_count": null,
   "metadata": {},
   "outputs": [],
   "source": [
    "#Map_1.user_roi.getInfo()"
   ]
  },
  {
   "cell_type": "code",
   "execution_count": null,
   "metadata": {},
   "outputs": [],
   "source": [
    "#region = Map_1.user_roi"
   ]
  },
  {
   "cell_type": "code",
   "execution_count": null,
   "metadata": {},
   "outputs": [],
   "source": [
    "training = image.sample(**{\n",
    "#    \"region\": region,\n",
    "    \"scale\": 30,\n",
    "    \"numPixels\": 5000,\n",
    "    \"seed\": 0,\n",
    "    \"geometries\": True\n",
    "})\n",
    "map_mrmra.addLayer(training, {}, \"training\", False)\n",
    "map_mrmra"
   ]
  },
  {
   "cell_type": "code",
   "execution_count": null,
   "metadata": {},
   "outputs": [],
   "source": [
    "n_clusters = 4\n",
    "clusterer = ee.Clusterer.wekaKMeans(n_clusters).train(training)"
   ]
  },
  {
   "cell_type": "code",
   "execution_count": null,
   "metadata": {},
   "outputs": [],
   "source": [
    "result= image.cluster(clusterer)\n",
    "\n",
    "map_mrmra.addLayer(result.randomVisualizer(), {}, \"clusters\")\n",
    "map_mrmra"
   ]
  },
  {
   "cell_type": "code",
   "execution_count": null,
   "metadata": {},
   "outputs": [],
   "source": [
    "legend_keys = [\"Water\", \"Agricultural\", \"Forest\", \"Agriculture\"]\n",
    "legend_colors = [\"#3CC7FF\", \"#FF4848\", \"#009612\", \"#FFFFB3\"]\n",
    "result = result.remap([0, 1, 2, 3], [1, 2, 3, 4])\n",
    "\n",
    "map_mrmra.addLayer(result, {\"min\": 1, \"max\": 4, \"palette\": legend_colors}, \"Labelled Clusters\")\n",
    "map_mrmra.add_legend(legend_keys=legend_keys, legend_colors=legend_colors, poisiton=\"bottomright\")\n",
    "map_mrmra"
   ]
  },
  {
   "cell_type": "code",
   "execution_count": null,
   "metadata": {},
   "outputs": [],
   "source": [
    "print(\"Change Layer Opacity:\")\n",
    "cluster_layer = map_mrmra.layers[-1]\n",
    "cluster_layer.interact(opacity = (0, 1, 0.1))"
   ]
  },
  {
   "cell_type": "code",
   "execution_count": null,
   "metadata": {},
   "outputs": [],
   "source": [
    "import os\n",
    "out_dir = os.path.join(os.path.expanduser(\"∼\"), \"Downloads\")\n",
    "out_file = os.path.join(out_dir, \"cluster.tif\")"
   ]
  },
  {
   "cell_type": "code",
   "execution_count": null,
   "metadata": {},
   "outputs": [],
   "source": [
    "geemap.ee_export_image(result, filename=out_file, scale=90)"
   ]
  }
 ],
 "metadata": {
  "kernelspec": {
   "display_name": "Python 3",
   "language": "python",
   "name": "python3"
  },
  "language_info": {
   "codemirror_mode": {
    "name": "ipython",
    "version": 3
   },
   "file_extension": ".py",
   "mimetype": "text/x-python",
   "name": "python",
   "nbconvert_exporter": "python",
   "pygments_lexer": "ipython3",
   "version": "3.8.5"
  }
 },
 "nbformat": 4,
 "nbformat_minor": 4
}
