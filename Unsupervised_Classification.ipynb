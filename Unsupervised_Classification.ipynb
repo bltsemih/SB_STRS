{
 "cells": [
  {
   "cell_type": "code",
   "execution_count": null,
   "metadata": {},
   "outputs": [],
   "source": [
    "!pip install geemap --upgrade\n",
    "!pip install earthengine-api --upgrade"
   ]
  },
  {
   "cell_type": "code",
   "execution_count": null,
   "metadata": {},
   "outputs": [],
   "source": [
    "import ee"
   ]
  },
  {
   "cell_type": "code",
   "execution_count": null,
   "metadata": {},
   "outputs": [],
   "source": [
    "import geemap"
   ]
  },
  {
   "cell_type": "code",
   "execution_count": null,
   "metadata": {},
   "outputs": [],
   "source": [
    "Map = geemap.Map()\n",
    "Map"
   ]
  },
  {
   "cell_type": "code",
   "execution_count": null,
   "metadata": {},
   "outputs": [],
   "source": [
    "Map_1 = geemap.Map()\n",
    "point = ee.Geometry.Point([29.3640, 41.0627])\n",
    "\n",
    "image = ee.ImageCollection(\"LANDSAT/LC08/C01/T1_SR\") \\\n",
    "    .filterBounds(point)  \\\n",
    "    .filterDate(\"2018-01-01\", \"2019-12-31\") \\\n",
    "    .sort(\"CLOUD_COVER\") \\\n",
    "    .first()  \\\n",
    "    .select(\"B[1-7]\")\n",
    "\n",
    "vis_parameters = {\"min\": 0, \"max\": 3000, \"bands\": [\"B4\", \"B3\", \"B2\"]}\n",
    "\n",
    "Map_1.centerObject(point, 8)\n",
    "Map_1.addLayer(image, vis_parameters, \"Landsat-8\")\n",
    "Map_1"
   ]
  },
  {
   "cell_type": "code",
   "execution_count": null,
   "metadata": {},
   "outputs": [],
   "source": [
    "ee.Algorithms.If(ee.List(image.propertyNames()).contains(\"system:time_start\"), True, False).getInfo()"
   ]
  },
  {
   "cell_type": "code",
   "execution_count": null,
   "metadata": {},
   "outputs": [],
   "source": [
    "props = geemap.image_props(image)\n",
    "props.getInfo()"
   ]
  },
  {
   "cell_type": "code",
   "execution_count": null,
   "metadata": {},
   "outputs": [],
   "source": [
    "props.get(\"IMAGE_DATE\").getInfo()"
   ]
  },
  {
   "cell_type": "code",
   "execution_count": null,
   "metadata": {},
   "outputs": [],
   "source": [
    "props.get(\"CLOUD_COVER\").getInfo()"
   ]
  },
  {
   "cell_type": "code",
   "execution_count": null,
   "metadata": {},
   "outputs": [],
   "source": [
    "#Map_1.user_roi.getInfo()"
   ]
  },
  {
   "cell_type": "code",
   "execution_count": null,
   "metadata": {},
   "outputs": [],
   "source": [
    "#region = Map_1.user_roi"
   ]
  },
  {
   "cell_type": "code",
   "execution_count": null,
   "metadata": {},
   "outputs": [],
   "source": [
    "training = image.sample(**{\n",
    "#    \"region\": region,\n",
    "    \"scale\": 50,\n",
    "    \"numPixels\": 5000,\n",
    "    \"seed\": 0,\n",
    "    \"geometries\": True\n",
    "})\n",
    "Map_1.addLayer(training, {}, \"training\", False)\n",
    "Map_1"
   ]
  },
  {
   "cell_type": "code",
   "execution_count": null,
   "metadata": {},
   "outputs": [],
   "source": [
    "n_clusters = 5\n",
    "clusterer = ee.Clusterer.wekaKMeans(n_clusters).train(training)"
   ]
  },
  {
   "cell_type": "code",
   "execution_count": null,
   "metadata": {},
   "outputs": [],
   "source": [
    "result= image.cluster(clusterer)\n",
    "\n",
    "Map_1.addLayer(result.randomVisualizer(), {}, \"clusters\")\n",
    "Map_1"
   ]
  },
  {
   "cell_type": "code",
   "execution_count": null,
   "metadata": {},
   "outputs": [],
   "source": [
    "legend_keys = [\"Water\", \"Agricultural\", \"Rocky\", \"Settlement\", \"Forest\"]\n",
    "legend_colors = [\"#8DD3C7\",\"#FFFFB3\", \"#BEBADA\", \"#FB8072\", \"#80B1D3\"]\n",
    "result = result.remap([0, 1, 2, 3, 4], [1, 2, 3, 4, 5])\n",
    "\n",
    "Map_1.addLayer(result, {\"min\": 1, \"max\": 5, \"palette\": legend_colors}, \"Labelled Clusters\")\n",
    "Map_1.add_legend(legend_keys=legend_keys, legend_colors=legend_colors, poisiton=\"bottomright\")\n",
    "Map_1"
   ]
  },
  {
   "cell_type": "code",
   "execution_count": null,
   "metadata": {},
   "outputs": [],
   "source": [
    "print(\"Change Layer Opacity:\")\n",
    "cluster_layer = Map_1.layers[-1]\n",
    "cluster_layer.interact(opacity = (0, 1, 0.1))"
   ]
  }
 ],
 "metadata": {
  "kernelspec": {
   "display_name": "Python 3",
   "language": "python",
   "name": "python3"
  },
  "language_info": {
   "codemirror_mode": {
    "name": "ipython",
    "version": 3
   },
   "file_extension": ".py",
   "mimetype": "text/x-python",
   "name": "python",
   "nbconvert_exporter": "python",
   "pygments_lexer": "ipython3",
   "version": "3.8.5"
  }
 },
 "nbformat": 4,
 "nbformat_minor": 4
}
